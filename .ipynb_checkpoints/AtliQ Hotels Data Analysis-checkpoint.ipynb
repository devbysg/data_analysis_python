{
 "cells": [
  {
   "cell_type": "markdown",
   "id": "a3a68ff1-fdd5-44ea-9e6b-7247843af134",
   "metadata": {},
   "source": [
    "# AtliQ Hotels Data Analysis Project\n",
    "\n",
    "## This project analyzes hotel booking and performance data for AtliQ Hotels.  \n",
    "## The goal is to clean and explore the data, generate insights, and support better decision-making for revenue and occupancy optimization."
   ]
  },
  {
   "cell_type": "markdown",
   "id": "e460a273-f8aa-4e80-bdd4-de4323d5e1a8",
   "metadata": {},
   "source": [
    "## Importing Necessary Libraries\n",
    "In this section, we import the required Python libraries:\n",
    "- **Pandas**: For data loading, manipulation, and analysis.\n",
    "- **NumPy**: For numerical computations (e.g., handling arrays).\n",
    "- **Matplotlib**: For creating visualizations like charts."
   ]
  },
  {
   "cell_type": "code",
   "execution_count": 1,
   "id": "32652db3-1b34-4f8e-80eb-3f6d20f8d4a6",
   "metadata": {},
   "outputs": [],
   "source": [
    "import pandas as pd\n",
    "import numpy as np\n",
    "import matplotlib.pyplot as plt"
   ]
  },
  {
   "cell_type": "markdown",
   "id": "81c5623e-3b9b-4036-932f-8dafa93ec414",
   "metadata": {},
   "source": [
    "## Data Import and Exploration\n",
    "Here, we load the datasets and perform initial exploration to understand structure, types, and potential issues."
   ]
  },
  {
   "cell_type": "code",
   "execution_count": 2,
   "id": "4850d373-384f-4a77-a877-86ceace889a4",
   "metadata": {},
   "outputs": [],
   "source": [
    "### Loading the Datasets\n",
    "# Load individual datasets\n",
    "df_bookings = pd.read_csv('datasets/fact_bookings.csv')  # Main bookings data\n",
    "df_date = pd.read_csv('datasets/dim_date.csv')  # Dates with week/day info\n",
    "df_hotels = pd.read_csv('datasets/dim_hotels.csv')  # Hotel details\n",
    "df_rooms = pd.read_csv('datasets/dim_rooms.csv')  # Room categories\n",
    "df_agg_bookings = pd.read_csv('datasets/fact_aggregated_bookings.csv')  # Aggregated stats"
   ]
  },
  {
   "cell_type": "markdown",
   "id": "63a22f70-bb0e-4e64-b7a7-6cceded68231",
   "metadata": {},
   "source": [
    "# We start by exploring the structure, columns, and key statistics of each dataset."
   ]
  },
  {
   "cell_type": "code",
   "execution_count": 3,
   "id": "9674a555-9614-4708-8764-279f6a12958b",
   "metadata": {},
   "outputs": [
    {
     "name": "stdout",
     "output_type": "stream",
     "text": [
      "Bookings Shape: (134590, 12)\n"
     ]
    }
   ],
   "source": [
    "print(\"Bookings Shape:\", df_bookings.shape)"
   ]
  },
  {
   "cell_type": "code",
   "execution_count": 4,
   "id": "280d46b9-876a-4b52-b73c-1f7b7f7b5f33",
   "metadata": {},
   "outputs": [
    {
     "name": "stdout",
     "output_type": "stream",
     "text": [
      "Dates Shape: (92, 4)\n"
     ]
    }
   ],
   "source": [
    "print(\"Dates Shape:\", df_date.shape)"
   ]
  },
  {
   "cell_type": "code",
   "execution_count": 5,
   "id": "564cb680-5a0b-40b8-9af4-82e6e8ad9fd6",
   "metadata": {},
   "outputs": [
    {
     "name": "stdout",
     "output_type": "stream",
     "text": [
      "Hotels Shape: (25, 4)\n"
     ]
    }
   ],
   "source": [
    "print(\"Hotels Shape:\", df_hotels.shape)"
   ]
  },
  {
   "cell_type": "code",
   "execution_count": 6,
   "id": "f85d735c-eece-456e-87aa-a67efe41697b",
   "metadata": {},
   "outputs": [
    {
     "name": "stdout",
     "output_type": "stream",
     "text": [
      "Rooms Shape: (4, 2)\n"
     ]
    }
   ],
   "source": [
    "print(\"Rooms Shape:\", df_rooms.shape)"
   ]
  },
  {
   "cell_type": "code",
   "execution_count": 7,
   "id": "9838cf04-a808-440e-80fd-41fb0bca66e2",
   "metadata": {},
   "outputs": [
    {
     "name": "stdout",
     "output_type": "stream",
     "text": [
      "Aggregated Bookings Shape: (9200, 5)\n"
     ]
    }
   ],
   "source": [
    "print(\"Aggregated Bookings Shape:\", df_agg_bookings.shape)"
   ]
  },
  {
   "cell_type": "markdown",
   "id": "8deb5ef4-2cd3-423c-99c4-24deb2407e73",
   "metadata": {},
   "source": [
    "## Exploring Bookings Data\n",
    "Let's look at the main bookings dataset."
   ]
  },
  {
   "cell_type": "code",
   "execution_count": 8,
   "id": "6460ed55-c2dc-4281-86e4-89a7f9465948",
   "metadata": {},
   "outputs": [
    {
     "data": {
      "text/html": [
       "<div>\n",
       "<style scoped>\n",
       "    .dataframe tbody tr th:only-of-type {\n",
       "        vertical-align: middle;\n",
       "    }\n",
       "\n",
       "    .dataframe tbody tr th {\n",
       "        vertical-align: top;\n",
       "    }\n",
       "\n",
       "    .dataframe thead th {\n",
       "        text-align: right;\n",
       "    }\n",
       "</style>\n",
       "<table border=\"1\" class=\"dataframe\">\n",
       "  <thead>\n",
       "    <tr style=\"text-align: right;\">\n",
       "      <th></th>\n",
       "      <th>booking_id</th>\n",
       "      <th>property_id</th>\n",
       "      <th>booking_date</th>\n",
       "      <th>check_in_date</th>\n",
       "      <th>checkout_date</th>\n",
       "      <th>no_guests</th>\n",
       "      <th>room_category</th>\n",
       "      <th>booking_platform</th>\n",
       "      <th>ratings_given</th>\n",
       "      <th>booking_status</th>\n",
       "      <th>revenue_generated</th>\n",
       "      <th>revenue_realized</th>\n",
       "    </tr>\n",
       "  </thead>\n",
       "  <tbody>\n",
       "    <tr>\n",
       "      <th>0</th>\n",
       "      <td>May012216558RT11</td>\n",
       "      <td>16558</td>\n",
       "      <td>2022-04-27</td>\n",
       "      <td>2022-05-01</td>\n",
       "      <td>2022-05-02</td>\n",
       "      <td>3</td>\n",
       "      <td>RT1</td>\n",
       "      <td>direct online</td>\n",
       "      <td>1.0</td>\n",
       "      <td>Checked Out</td>\n",
       "      <td>10010</td>\n",
       "      <td>10010</td>\n",
       "    </tr>\n",
       "    <tr>\n",
       "      <th>1</th>\n",
       "      <td>May012216558RT12</td>\n",
       "      <td>16558</td>\n",
       "      <td>2022-04-30</td>\n",
       "      <td>2022-05-01</td>\n",
       "      <td>2022-05-02</td>\n",
       "      <td>2</td>\n",
       "      <td>RT1</td>\n",
       "      <td>others</td>\n",
       "      <td>NaN</td>\n",
       "      <td>Cancelled</td>\n",
       "      <td>9100</td>\n",
       "      <td>3640</td>\n",
       "    </tr>\n",
       "    <tr>\n",
       "      <th>2</th>\n",
       "      <td>May012216558RT13</td>\n",
       "      <td>16558</td>\n",
       "      <td>2022-04-28</td>\n",
       "      <td>2022-05-01</td>\n",
       "      <td>2022-05-04</td>\n",
       "      <td>2</td>\n",
       "      <td>RT1</td>\n",
       "      <td>logtrip</td>\n",
       "      <td>5.0</td>\n",
       "      <td>Checked Out</td>\n",
       "      <td>9100</td>\n",
       "      <td>9100</td>\n",
       "    </tr>\n",
       "    <tr>\n",
       "      <th>3</th>\n",
       "      <td>May012216558RT14</td>\n",
       "      <td>16558</td>\n",
       "      <td>2022-04-28</td>\n",
       "      <td>2022-05-01</td>\n",
       "      <td>2022-05-02</td>\n",
       "      <td>2</td>\n",
       "      <td>RT1</td>\n",
       "      <td>others</td>\n",
       "      <td>NaN</td>\n",
       "      <td>Cancelled</td>\n",
       "      <td>9100</td>\n",
       "      <td>3640</td>\n",
       "    </tr>\n",
       "    <tr>\n",
       "      <th>4</th>\n",
       "      <td>May012216558RT15</td>\n",
       "      <td>16558</td>\n",
       "      <td>2022-04-27</td>\n",
       "      <td>2022-05-01</td>\n",
       "      <td>2022-05-02</td>\n",
       "      <td>4</td>\n",
       "      <td>RT1</td>\n",
       "      <td>direct online</td>\n",
       "      <td>5.0</td>\n",
       "      <td>Checked Out</td>\n",
       "      <td>10920</td>\n",
       "      <td>10920</td>\n",
       "    </tr>\n",
       "  </tbody>\n",
       "</table>\n",
       "</div>"
      ],
      "text/plain": [
       "         booking_id  property_id booking_date check_in_date checkout_date  \\\n",
       "0  May012216558RT11        16558   2022-04-27    2022-05-01    2022-05-02   \n",
       "1  May012216558RT12        16558   2022-04-30    2022-05-01    2022-05-02   \n",
       "2  May012216558RT13        16558   2022-04-28    2022-05-01    2022-05-04   \n",
       "3  May012216558RT14        16558   2022-04-28    2022-05-01    2022-05-02   \n",
       "4  May012216558RT15        16558   2022-04-27    2022-05-01    2022-05-02   \n",
       "\n",
       "   no_guests room_category booking_platform  ratings_given booking_status  \\\n",
       "0          3           RT1    direct online            1.0    Checked Out   \n",
       "1          2           RT1           others            NaN      Cancelled   \n",
       "2          2           RT1          logtrip            5.0    Checked Out   \n",
       "3          2           RT1           others            NaN      Cancelled   \n",
       "4          4           RT1    direct online            5.0    Checked Out   \n",
       "\n",
       "   revenue_generated  revenue_realized  \n",
       "0              10010             10010  \n",
       "1               9100              3640  \n",
       "2               9100              9100  \n",
       "3               9100              3640  \n",
       "4              10920             10920  "
      ]
     },
     "execution_count": 8,
     "metadata": {},
     "output_type": "execute_result"
    }
   ],
   "source": [
    "# First few rows\n",
    "df_bookings.head()"
   ]
  },
  {
   "cell_type": "code",
   "execution_count": 9,
   "id": "66cd09b6-bea9-4334-b438-b1056666b72e",
   "metadata": {},
   "outputs": [
    {
     "name": "stdout",
     "output_type": "stream",
     "text": [
      "<class 'pandas.core.frame.DataFrame'>\n",
      "RangeIndex: 134590 entries, 0 to 134589\n",
      "Data columns (total 12 columns):\n",
      " #   Column             Non-Null Count   Dtype  \n",
      "---  ------             --------------   -----  \n",
      " 0   booking_id         134590 non-null  object \n",
      " 1   property_id        134590 non-null  int64  \n",
      " 2   booking_date       134590 non-null  object \n",
      " 3   check_in_date      134590 non-null  object \n",
      " 4   checkout_date      134590 non-null  object \n",
      " 5   no_guests          134590 non-null  int64  \n",
      " 6   room_category      134590 non-null  object \n",
      " 7   booking_platform   134590 non-null  object \n",
      " 8   ratings_given      56683 non-null   float64\n",
      " 9   booking_status     134590 non-null  object \n",
      " 10  revenue_generated  134590 non-null  int64  \n",
      " 11  revenue_realized   134590 non-null  int64  \n",
      "dtypes: float64(1), int64(4), object(7)\n",
      "memory usage: 12.3+ MB\n"
     ]
    }
   ],
   "source": [
    "# Data types and missing values\n",
    "df_bookings.info()"
   ]
  },
  {
   "cell_type": "code",
   "execution_count": 10,
   "id": "09661e2c-4f42-402c-bbd0-84f215e34eb9",
   "metadata": {},
   "outputs": [
    {
     "data": {
      "text/html": [
       "<div>\n",
       "<style scoped>\n",
       "    .dataframe tbody tr th:only-of-type {\n",
       "        vertical-align: middle;\n",
       "    }\n",
       "\n",
       "    .dataframe tbody tr th {\n",
       "        vertical-align: top;\n",
       "    }\n",
       "\n",
       "    .dataframe thead th {\n",
       "        text-align: right;\n",
       "    }\n",
       "</style>\n",
       "<table border=\"1\" class=\"dataframe\">\n",
       "  <thead>\n",
       "    <tr style=\"text-align: right;\">\n",
       "      <th></th>\n",
       "      <th>property_id</th>\n",
       "      <th>no_guests</th>\n",
       "      <th>ratings_given</th>\n",
       "      <th>revenue_generated</th>\n",
       "      <th>revenue_realized</th>\n",
       "    </tr>\n",
       "  </thead>\n",
       "  <tbody>\n",
       "    <tr>\n",
       "      <th>count</th>\n",
       "      <td>134590.000000</td>\n",
       "      <td>134590.000000</td>\n",
       "      <td>56683.000000</td>\n",
       "      <td>134590.000000</td>\n",
       "      <td>134590.000000</td>\n",
       "    </tr>\n",
       "    <tr>\n",
       "      <th>mean</th>\n",
       "      <td>18061.113493</td>\n",
       "      <td>2.036808</td>\n",
       "      <td>3.619004</td>\n",
       "      <td>14916.013188</td>\n",
       "      <td>12696.123256</td>\n",
       "    </tr>\n",
       "    <tr>\n",
       "      <th>std</th>\n",
       "      <td>1093.055847</td>\n",
       "      <td>1.031766</td>\n",
       "      <td>1.235009</td>\n",
       "      <td>6452.868072</td>\n",
       "      <td>6928.108124</td>\n",
       "    </tr>\n",
       "    <tr>\n",
       "      <th>min</th>\n",
       "      <td>16558.000000</td>\n",
       "      <td>1.000000</td>\n",
       "      <td>1.000000</td>\n",
       "      <td>6500.000000</td>\n",
       "      <td>2600.000000</td>\n",
       "    </tr>\n",
       "    <tr>\n",
       "      <th>25%</th>\n",
       "      <td>17558.000000</td>\n",
       "      <td>1.000000</td>\n",
       "      <td>3.000000</td>\n",
       "      <td>9900.000000</td>\n",
       "      <td>7600.000000</td>\n",
       "    </tr>\n",
       "    <tr>\n",
       "      <th>50%</th>\n",
       "      <td>17564.000000</td>\n",
       "      <td>2.000000</td>\n",
       "      <td>4.000000</td>\n",
       "      <td>13500.000000</td>\n",
       "      <td>11700.000000</td>\n",
       "    </tr>\n",
       "    <tr>\n",
       "      <th>75%</th>\n",
       "      <td>18563.000000</td>\n",
       "      <td>2.000000</td>\n",
       "      <td>5.000000</td>\n",
       "      <td>18000.000000</td>\n",
       "      <td>15300.000000</td>\n",
       "    </tr>\n",
       "    <tr>\n",
       "      <th>max</th>\n",
       "      <td>19563.000000</td>\n",
       "      <td>6.000000</td>\n",
       "      <td>5.000000</td>\n",
       "      <td>45220.000000</td>\n",
       "      <td>45220.000000</td>\n",
       "    </tr>\n",
       "  </tbody>\n",
       "</table>\n",
       "</div>"
      ],
      "text/plain": [
       "         property_id      no_guests  ratings_given  revenue_generated  \\\n",
       "count  134590.000000  134590.000000   56683.000000      134590.000000   \n",
       "mean    18061.113493       2.036808       3.619004       14916.013188   \n",
       "std      1093.055847       1.031766       1.235009        6452.868072   \n",
       "min     16558.000000       1.000000       1.000000        6500.000000   \n",
       "25%     17558.000000       1.000000       3.000000        9900.000000   \n",
       "50%     17564.000000       2.000000       4.000000       13500.000000   \n",
       "75%     18563.000000       2.000000       5.000000       18000.000000   \n",
       "max     19563.000000       6.000000       5.000000       45220.000000   \n",
       "\n",
       "       revenue_realized  \n",
       "count     134590.000000  \n",
       "mean       12696.123256  \n",
       "std         6928.108124  \n",
       "min         2600.000000  \n",
       "25%         7600.000000  \n",
       "50%        11700.000000  \n",
       "75%        15300.000000  \n",
       "max        45220.000000  "
      ]
     },
     "execution_count": 10,
     "metadata": {},
     "output_type": "execute_result"
    }
   ],
   "source": [
    "# Summary statistics\n",
    "df_bookings.describe()"
   ]
  },
  {
   "cell_type": "code",
   "execution_count": 11,
   "id": "caad12a5-ee49-44bd-8a3f-2552a3722648",
   "metadata": {},
   "outputs": [
    {
     "name": "stdout",
     "output_type": "stream",
     "text": [
      "Unique Room Categories: ['RT1' 'RT2' 'RT3' 'RT4']\n"
     ]
    }
   ],
   "source": [
    "# Unique values in key columns\n",
    "print(\"Unique Room Categories:\", df_bookings.room_category.unique())"
   ]
  },
  {
   "cell_type": "code",
   "execution_count": 12,
   "id": "c2585957-1321-4812-bc25-eca2e013cd01",
   "metadata": {},
   "outputs": [
    {
     "name": "stdout",
     "output_type": "stream",
     "text": [
      "Unique Booking Platforms: ['direct online' 'others' 'logtrip' 'tripster' 'makeyourtrip' 'journey'\n",
      " 'direct offline']\n"
     ]
    }
   ],
   "source": [
    "print(\"Unique Booking Platforms:\", df_bookings.booking_platform.unique())"
   ]
  },
  {
   "cell_type": "code",
   "execution_count": 13,
   "id": "6b07f6ce-457d-43ce-8a53-e83e736ef620",
   "metadata": {},
   "outputs": [
    {
     "data": {
      "text/plain": [
       "booking_platform\n",
       "others            55066\n",
       "makeyourtrip      26898\n",
       "logtrip           14756\n",
       "direct online     13379\n",
       "tripster           9630\n",
       "journey            8106\n",
       "direct offline     6755\n",
       "Name: count, dtype: int64"
      ]
     },
     "execution_count": 13,
     "metadata": {},
     "output_type": "execute_result"
    }
   ],
   "source": [
    "# Value counts for platforms (for quick insights)\n",
    "df_bookings.booking_platform.value_counts()"
   ]
  },
  {
   "cell_type": "markdown",
   "id": "e38b20cc-1f28-48d8-b1f5-e7e97d525d13",
   "metadata": {},
   "source": [
    "## Data Cleaning\n",
    "We address issues like missing values, invalid entries, and outliers to ensure data quality.\n",
    "\n",
    "### Handling Missing Values"
   ]
  },
  {
   "cell_type": "code",
   "execution_count": 14,
   "id": "e6c96917-2509-4d9b-947d-ecb900783a15",
   "metadata": {},
   "outputs": [
    {
     "name": "stdout",
     "output_type": "stream",
     "text": [
      "booking_id               0\n",
      "property_id              0\n",
      "booking_date             0\n",
      "check_in_date            0\n",
      "checkout_date            0\n",
      "no_guests                0\n",
      "room_category            0\n",
      "booking_platform         0\n",
      "ratings_given        77907\n",
      "booking_status           0\n",
      "revenue_generated        0\n",
      "revenue_realized         0\n",
      "dtype: int64\n"
     ]
    }
   ],
   "source": [
    "# Check missing values\n",
    "print(df_bookings.isnull().sum())"
   ]
  },
  {
   "cell_type": "code",
   "execution_count": 15,
   "id": "c0303988-9b34-4167-b0df-09864f3e573e",
   "metadata": {},
   "outputs": [],
   "source": [
    "# Impute ratings_given with mean (or drop if not critical)\n",
    "df_bookings['ratings_given'] = df_bookings['ratings_given'].fillna(df_bookings['ratings_given'].mean())"
   ]
  },
  {
   "cell_type": "markdown",
   "id": "e3a9b731-6fae-43ad-9f25-0576e2764e98",
   "metadata": {},
   "source": [
    "# Fixing Invalid Data"
   ]
  },
  {
   "cell_type": "code",
   "execution_count": 16,
   "id": "18030a6e-8149-4faa-b34f-09c9289bd3f0",
   "metadata": {},
   "outputs": [],
   "source": [
    "# Remove rows with negative or zero guests (invalid)\n",
    "df_bookings = df_bookings[df_bookings['no_guests'] > 0]"
   ]
  },
  {
   "cell_type": "code",
   "execution_count": 17,
   "id": "dfe89c61-7991-4d07-a79a-77da039c0fd7",
   "metadata": {},
   "outputs": [],
   "source": [
    "# Convert dates to datetime for consistency\n",
    "df_bookings['check_in_date'] = pd.to_datetime(df_bookings['check_in_date'], errors='coerce')"
   ]
  },
  {
   "cell_type": "code",
   "execution_count": 18,
   "id": "8058c8a6-55b4-40a1-9405-81e6f2453c9d",
   "metadata": {},
   "outputs": [
    {
     "name": "stdout",
     "output_type": "stream",
     "text": [
      "        date  mmm yy week no day_type\n",
      "0 2022-05-01  May 22    W 17  weekend\n",
      "1 2022-05-02  May 22    W 18  weekday\n",
      "2 2022-05-03  May 22    W 18  weekday\n",
      "3 2022-05-04  May 22    W 18  weekday\n",
      "4 2022-05-05  May 22    W 18  weekday\n"
     ]
    }
   ],
   "source": [
    "# Ensure date is in datetime format\n",
    "df_date['date'] = pd.to_datetime(df_date['date'], format='%d-%b-%y', errors='coerce')\n",
    "\n",
    "# Create mmm yy column (e.g., \"May 22\")\n",
    "df_date['mmm yy'] = df_date['date'].dt.strftime('%b %y')\n",
    "\n",
    "# Create week no column (e.g., \"W 19\")\n",
    "df_date['week no'] = \"W \" + df_date['date'].dt.isocalendar().week.astype(str)\n",
    "\n",
    "# Create day_type column (weekend vs weekday)\n",
    "df_date['day_type'] = df_date['date'].dt.dayofweek.apply(lambda x: 'weekend' if x >= 5 else 'weekday')\n",
    "\n",
    "# Check results\n",
    "print(df_date.head())"
   ]
  },
  {
   "cell_type": "code",
   "execution_count": 19,
   "id": "4814e6e2-0f5e-4ee9-a572-536d07d3d2e7",
   "metadata": {},
   "outputs": [
    {
     "data": {
      "text/plain": [
       "(np.float64(33480.44762788103), np.float64(-8088.201116253131))"
      ]
     },
     "execution_count": 19,
     "metadata": {},
     "output_type": "execute_result"
    }
   ],
   "source": [
    "avg, std = df_bookings.revenue_realized.mean(), df_bookings.revenue_realized.std()\n",
    "higher_limit = avg + 3*std\n",
    "lower_limit = avg - 3*std\n",
    "higher_limit, lower_limit"
   ]
  },
  {
   "cell_type": "code",
   "execution_count": 20,
   "id": "8c860ffc-9002-413d-9b04-db1a72865e74",
   "metadata": {},
   "outputs": [
    {
     "data": {
      "text/html": [
       "<div>\n",
       "<style scoped>\n",
       "    .dataframe tbody tr th:only-of-type {\n",
       "        vertical-align: middle;\n",
       "    }\n",
       "\n",
       "    .dataframe tbody tr th {\n",
       "        vertical-align: top;\n",
       "    }\n",
       "\n",
       "    .dataframe thead th {\n",
       "        text-align: right;\n",
       "    }\n",
       "</style>\n",
       "<table border=\"1\" class=\"dataframe\">\n",
       "  <thead>\n",
       "    <tr style=\"text-align: right;\">\n",
       "      <th></th>\n",
       "      <th>booking_id</th>\n",
       "      <th>property_id</th>\n",
       "      <th>booking_date</th>\n",
       "      <th>check_in_date</th>\n",
       "      <th>checkout_date</th>\n",
       "      <th>no_guests</th>\n",
       "      <th>room_category</th>\n",
       "      <th>booking_platform</th>\n",
       "      <th>ratings_given</th>\n",
       "      <th>booking_status</th>\n",
       "      <th>revenue_generated</th>\n",
       "      <th>revenue_realized</th>\n",
       "    </tr>\n",
       "  </thead>\n",
       "  <tbody>\n",
       "    <tr>\n",
       "      <th>0</th>\n",
       "      <td>May012216558RT11</td>\n",
       "      <td>16558</td>\n",
       "      <td>2022-04-27</td>\n",
       "      <td>2022-05-01</td>\n",
       "      <td>2022-05-02</td>\n",
       "      <td>3</td>\n",
       "      <td>RT1</td>\n",
       "      <td>direct online</td>\n",
       "      <td>1.000000</td>\n",
       "      <td>Checked Out</td>\n",
       "      <td>10010</td>\n",
       "      <td>10010</td>\n",
       "    </tr>\n",
       "    <tr>\n",
       "      <th>1</th>\n",
       "      <td>May012216558RT12</td>\n",
       "      <td>16558</td>\n",
       "      <td>2022-04-30</td>\n",
       "      <td>2022-05-01</td>\n",
       "      <td>2022-05-02</td>\n",
       "      <td>2</td>\n",
       "      <td>RT1</td>\n",
       "      <td>others</td>\n",
       "      <td>3.619004</td>\n",
       "      <td>Cancelled</td>\n",
       "      <td>9100</td>\n",
       "      <td>3640</td>\n",
       "    </tr>\n",
       "    <tr>\n",
       "      <th>2</th>\n",
       "      <td>May012216558RT13</td>\n",
       "      <td>16558</td>\n",
       "      <td>2022-04-28</td>\n",
       "      <td>2022-05-01</td>\n",
       "      <td>2022-05-04</td>\n",
       "      <td>2</td>\n",
       "      <td>RT1</td>\n",
       "      <td>logtrip</td>\n",
       "      <td>5.000000</td>\n",
       "      <td>Checked Out</td>\n",
       "      <td>9100</td>\n",
       "      <td>9100</td>\n",
       "    </tr>\n",
       "    <tr>\n",
       "      <th>3</th>\n",
       "      <td>May012216558RT14</td>\n",
       "      <td>16558</td>\n",
       "      <td>2022-04-28</td>\n",
       "      <td>2022-05-01</td>\n",
       "      <td>2022-05-02</td>\n",
       "      <td>2</td>\n",
       "      <td>RT1</td>\n",
       "      <td>others</td>\n",
       "      <td>3.619004</td>\n",
       "      <td>Cancelled</td>\n",
       "      <td>9100</td>\n",
       "      <td>3640</td>\n",
       "    </tr>\n",
       "    <tr>\n",
       "      <th>4</th>\n",
       "      <td>May012216558RT15</td>\n",
       "      <td>16558</td>\n",
       "      <td>2022-04-27</td>\n",
       "      <td>2022-05-01</td>\n",
       "      <td>2022-05-02</td>\n",
       "      <td>4</td>\n",
       "      <td>RT1</td>\n",
       "      <td>direct online</td>\n",
       "      <td>5.000000</td>\n",
       "      <td>Checked Out</td>\n",
       "      <td>10920</td>\n",
       "      <td>10920</td>\n",
       "    </tr>\n",
       "  </tbody>\n",
       "</table>\n",
       "</div>"
      ],
      "text/plain": [
       "         booking_id  property_id booking_date check_in_date checkout_date  \\\n",
       "0  May012216558RT11        16558   2022-04-27    2022-05-01    2022-05-02   \n",
       "1  May012216558RT12        16558   2022-04-30    2022-05-01    2022-05-02   \n",
       "2  May012216558RT13        16558   2022-04-28    2022-05-01    2022-05-04   \n",
       "3  May012216558RT14        16558   2022-04-28    2022-05-01    2022-05-02   \n",
       "4  May012216558RT15        16558   2022-04-27    2022-05-01    2022-05-02   \n",
       "\n",
       "   no_guests room_category booking_platform  ratings_given booking_status  \\\n",
       "0          3           RT1    direct online       1.000000    Checked Out   \n",
       "1          2           RT1           others       3.619004      Cancelled   \n",
       "2          2           RT1          logtrip       5.000000    Checked Out   \n",
       "3          2           RT1           others       3.619004      Cancelled   \n",
       "4          4           RT1    direct online       5.000000    Checked Out   \n",
       "\n",
       "   revenue_generated  revenue_realized  \n",
       "0              10010             10010  \n",
       "1               9100              3640  \n",
       "2               9100              9100  \n",
       "3               9100              3640  \n",
       "4              10920             10920  "
      ]
     },
     "execution_count": 20,
     "metadata": {},
     "output_type": "execute_result"
    }
   ],
   "source": [
    "df_bookings.head()"
   ]
  },
  {
   "cell_type": "markdown",
   "id": "a529ae6a-ce72-42cc-ac6c-8d09fb24264d",
   "metadata": {},
   "source": [
    "# Displays bookings where revenue realized exceeds the higher limit."
   ]
  },
  {
   "cell_type": "code",
   "execution_count": 21,
   "id": "9fd3d95c-ece2-46f8-af52-abcdd8276ac8",
   "metadata": {},
   "outputs": [],
   "source": [
    "df_bookings = df_bookings[df_bookings.revenue_generated < higher_limit]"
   ]
  },
  {
   "cell_type": "markdown",
   "id": "861679ca-37d3-4727-add7-242aa68e09be",
   "metadata": {},
   "source": [
    "## Data Transformation\n",
    "We merge datasets and create new features for deeper analysis.\n",
    "\n",
    "### Merging Datasets"
   ]
  },
  {
   "cell_type": "code",
   "execution_count": 22,
   "id": "1f0156cc-78fc-4c36-b185-d536c3fe3fa1",
   "metadata": {},
   "outputs": [],
   "source": [
    "# Merge bookings with hotels on property_id\n",
    "df_bookings_all = pd.merge(df_bookings, df_hotels, on='property_id')"
   ]
  },
  {
   "cell_type": "code",
   "execution_count": 23,
   "id": "4cd28965-4076-49dc-9011-184e751d2f98",
   "metadata": {},
   "outputs": [
    {
     "data": {
      "text/html": [
       "<div>\n",
       "<style scoped>\n",
       "    .dataframe tbody tr th:only-of-type {\n",
       "        vertical-align: middle;\n",
       "    }\n",
       "\n",
       "    .dataframe tbody tr th {\n",
       "        vertical-align: top;\n",
       "    }\n",
       "\n",
       "    .dataframe thead th {\n",
       "        text-align: right;\n",
       "    }\n",
       "</style>\n",
       "<table border=\"1\" class=\"dataframe\">\n",
       "  <thead>\n",
       "    <tr style=\"text-align: right;\">\n",
       "      <th></th>\n",
       "      <th>booking_id</th>\n",
       "      <th>property_id</th>\n",
       "      <th>booking_date</th>\n",
       "      <th>check_in_date</th>\n",
       "      <th>checkout_date</th>\n",
       "      <th>no_guests</th>\n",
       "      <th>room_category</th>\n",
       "      <th>booking_platform</th>\n",
       "      <th>ratings_given</th>\n",
       "      <th>booking_status</th>\n",
       "      <th>revenue_generated</th>\n",
       "      <th>revenue_realized</th>\n",
       "      <th>property_name</th>\n",
       "      <th>category</th>\n",
       "      <th>city</th>\n",
       "    </tr>\n",
       "  </thead>\n",
       "  <tbody>\n",
       "    <tr>\n",
       "      <th>0</th>\n",
       "      <td>May012216558RT11</td>\n",
       "      <td>16558</td>\n",
       "      <td>2022-04-27</td>\n",
       "      <td>2022-05-01</td>\n",
       "      <td>2022-05-02</td>\n",
       "      <td>3</td>\n",
       "      <td>RT1</td>\n",
       "      <td>direct online</td>\n",
       "      <td>1.000000</td>\n",
       "      <td>Checked Out</td>\n",
       "      <td>10010</td>\n",
       "      <td>10010</td>\n",
       "      <td>Atliq Grands</td>\n",
       "      <td>Luxury</td>\n",
       "      <td>Delhi</td>\n",
       "    </tr>\n",
       "    <tr>\n",
       "      <th>1</th>\n",
       "      <td>May012216558RT12</td>\n",
       "      <td>16558</td>\n",
       "      <td>2022-04-30</td>\n",
       "      <td>2022-05-01</td>\n",
       "      <td>2022-05-02</td>\n",
       "      <td>2</td>\n",
       "      <td>RT1</td>\n",
       "      <td>others</td>\n",
       "      <td>3.619004</td>\n",
       "      <td>Cancelled</td>\n",
       "      <td>9100</td>\n",
       "      <td>3640</td>\n",
       "      <td>Atliq Grands</td>\n",
       "      <td>Luxury</td>\n",
       "      <td>Delhi</td>\n",
       "    </tr>\n",
       "    <tr>\n",
       "      <th>2</th>\n",
       "      <td>May012216558RT13</td>\n",
       "      <td>16558</td>\n",
       "      <td>2022-04-28</td>\n",
       "      <td>2022-05-01</td>\n",
       "      <td>2022-05-04</td>\n",
       "      <td>2</td>\n",
       "      <td>RT1</td>\n",
       "      <td>logtrip</td>\n",
       "      <td>5.000000</td>\n",
       "      <td>Checked Out</td>\n",
       "      <td>9100</td>\n",
       "      <td>9100</td>\n",
       "      <td>Atliq Grands</td>\n",
       "      <td>Luxury</td>\n",
       "      <td>Delhi</td>\n",
       "    </tr>\n",
       "    <tr>\n",
       "      <th>3</th>\n",
       "      <td>May012216558RT14</td>\n",
       "      <td>16558</td>\n",
       "      <td>2022-04-28</td>\n",
       "      <td>2022-05-01</td>\n",
       "      <td>2022-05-02</td>\n",
       "      <td>2</td>\n",
       "      <td>RT1</td>\n",
       "      <td>others</td>\n",
       "      <td>3.619004</td>\n",
       "      <td>Cancelled</td>\n",
       "      <td>9100</td>\n",
       "      <td>3640</td>\n",
       "      <td>Atliq Grands</td>\n",
       "      <td>Luxury</td>\n",
       "      <td>Delhi</td>\n",
       "    </tr>\n",
       "    <tr>\n",
       "      <th>4</th>\n",
       "      <td>May012216558RT15</td>\n",
       "      <td>16558</td>\n",
       "      <td>2022-04-27</td>\n",
       "      <td>2022-05-01</td>\n",
       "      <td>2022-05-02</td>\n",
       "      <td>4</td>\n",
       "      <td>RT1</td>\n",
       "      <td>direct online</td>\n",
       "      <td>5.000000</td>\n",
       "      <td>Checked Out</td>\n",
       "      <td>10920</td>\n",
       "      <td>10920</td>\n",
       "      <td>Atliq Grands</td>\n",
       "      <td>Luxury</td>\n",
       "      <td>Delhi</td>\n",
       "    </tr>\n",
       "  </tbody>\n",
       "</table>\n",
       "</div>"
      ],
      "text/plain": [
       "         booking_id  property_id booking_date check_in_date checkout_date  \\\n",
       "0  May012216558RT11        16558   2022-04-27    2022-05-01    2022-05-02   \n",
       "1  May012216558RT12        16558   2022-04-30    2022-05-01    2022-05-02   \n",
       "2  May012216558RT13        16558   2022-04-28    2022-05-01    2022-05-04   \n",
       "3  May012216558RT14        16558   2022-04-28    2022-05-01    2022-05-02   \n",
       "4  May012216558RT15        16558   2022-04-27    2022-05-01    2022-05-02   \n",
       "\n",
       "   no_guests room_category booking_platform  ratings_given booking_status  \\\n",
       "0          3           RT1    direct online       1.000000    Checked Out   \n",
       "1          2           RT1           others       3.619004      Cancelled   \n",
       "2          2           RT1          logtrip       5.000000    Checked Out   \n",
       "3          2           RT1           others       3.619004      Cancelled   \n",
       "4          4           RT1    direct online       5.000000    Checked Out   \n",
       "\n",
       "   revenue_generated  revenue_realized property_name category   city  \n",
       "0              10010             10010  Atliq Grands   Luxury  Delhi  \n",
       "1               9100              3640  Atliq Grands   Luxury  Delhi  \n",
       "2               9100              9100  Atliq Grands   Luxury  Delhi  \n",
       "3               9100              3640  Atliq Grands   Luxury  Delhi  \n",
       "4              10920             10920  Atliq Grands   Luxury  Delhi  "
      ]
     },
     "execution_count": 23,
     "metadata": {},
     "output_type": "execute_result"
    }
   ],
   "source": [
    "df_bookings_all.head()"
   ]
  },
  {
   "cell_type": "code",
   "execution_count": 24,
   "id": "3a2f1702-effb-40ae-ae43-9702d296636f",
   "metadata": {},
   "outputs": [
    {
     "data": {
      "text/html": [
       "<div>\n",
       "<style scoped>\n",
       "    .dataframe tbody tr th:only-of-type {\n",
       "        vertical-align: middle;\n",
       "    }\n",
       "\n",
       "    .dataframe tbody tr th {\n",
       "        vertical-align: top;\n",
       "    }\n",
       "\n",
       "    .dataframe thead th {\n",
       "        text-align: right;\n",
       "    }\n",
       "</style>\n",
       "<table border=\"1\" class=\"dataframe\">\n",
       "  <thead>\n",
       "    <tr style=\"text-align: right;\">\n",
       "      <th></th>\n",
       "      <th>date</th>\n",
       "      <th>mmm yy</th>\n",
       "      <th>week no</th>\n",
       "      <th>day_type</th>\n",
       "    </tr>\n",
       "  </thead>\n",
       "  <tbody>\n",
       "    <tr>\n",
       "      <th>0</th>\n",
       "      <td>2022-05-01</td>\n",
       "      <td>May 22</td>\n",
       "      <td>W 17</td>\n",
       "      <td>weekend</td>\n",
       "    </tr>\n",
       "    <tr>\n",
       "      <th>1</th>\n",
       "      <td>2022-05-02</td>\n",
       "      <td>May 22</td>\n",
       "      <td>W 18</td>\n",
       "      <td>weekday</td>\n",
       "    </tr>\n",
       "    <tr>\n",
       "      <th>2</th>\n",
       "      <td>2022-05-03</td>\n",
       "      <td>May 22</td>\n",
       "      <td>W 18</td>\n",
       "      <td>weekday</td>\n",
       "    </tr>\n",
       "    <tr>\n",
       "      <th>3</th>\n",
       "      <td>2022-05-04</td>\n",
       "      <td>May 22</td>\n",
       "      <td>W 18</td>\n",
       "      <td>weekday</td>\n",
       "    </tr>\n",
       "    <tr>\n",
       "      <th>4</th>\n",
       "      <td>2022-05-05</td>\n",
       "      <td>May 22</td>\n",
       "      <td>W 18</td>\n",
       "      <td>weekday</td>\n",
       "    </tr>\n",
       "  </tbody>\n",
       "</table>\n",
       "</div>"
      ],
      "text/plain": [
       "        date  mmm yy week no day_type\n",
       "0 2022-05-01  May 22    W 17  weekend\n",
       "1 2022-05-02  May 22    W 18  weekday\n",
       "2 2022-05-03  May 22    W 18  weekday\n",
       "3 2022-05-04  May 22    W 18  weekday\n",
       "4 2022-05-05  May 22    W 18  weekday"
      ]
     },
     "execution_count": 24,
     "metadata": {},
     "output_type": "execute_result"
    }
   ],
   "source": [
    "df_date.head()"
   ]
  },
  {
   "cell_type": "code",
   "execution_count": 25,
   "id": "2c65b2a0-6962-425b-b307-2400907c7cbd",
   "metadata": {},
   "outputs": [],
   "source": [
    "# Merge with dates on check_in_date == date\n",
    "df_bookings_all = pd.merge(df_bookings_all, df_date, left_on='check_in_date', right_on='date')"
   ]
  },
  {
   "cell_type": "code",
   "execution_count": 26,
   "id": "5507e930-76f3-4e10-b0aa-c3fdc64ad42c",
   "metadata": {},
   "outputs": [
    {
     "data": {
      "text/html": [
       "<div>\n",
       "<style scoped>\n",
       "    .dataframe tbody tr th:only-of-type {\n",
       "        vertical-align: middle;\n",
       "    }\n",
       "\n",
       "    .dataframe tbody tr th {\n",
       "        vertical-align: top;\n",
       "    }\n",
       "\n",
       "    .dataframe thead th {\n",
       "        text-align: right;\n",
       "    }\n",
       "</style>\n",
       "<table border=\"1\" class=\"dataframe\">\n",
       "  <thead>\n",
       "    <tr style=\"text-align: right;\">\n",
       "      <th></th>\n",
       "      <th>booking_id</th>\n",
       "      <th>property_id</th>\n",
       "      <th>booking_date</th>\n",
       "      <th>check_in_date</th>\n",
       "      <th>checkout_date</th>\n",
       "      <th>no_guests</th>\n",
       "      <th>room_category</th>\n",
       "      <th>booking_platform</th>\n",
       "      <th>ratings_given</th>\n",
       "      <th>booking_status</th>\n",
       "      <th>revenue_generated</th>\n",
       "      <th>revenue_realized</th>\n",
       "      <th>property_name</th>\n",
       "      <th>category</th>\n",
       "      <th>city</th>\n",
       "      <th>date</th>\n",
       "      <th>mmm yy</th>\n",
       "      <th>week no</th>\n",
       "      <th>day_type</th>\n",
       "    </tr>\n",
       "  </thead>\n",
       "  <tbody>\n",
       "    <tr>\n",
       "      <th>0</th>\n",
       "      <td>May012216558RT11</td>\n",
       "      <td>16558</td>\n",
       "      <td>2022-04-27</td>\n",
       "      <td>2022-05-01</td>\n",
       "      <td>2022-05-02</td>\n",
       "      <td>3</td>\n",
       "      <td>RT1</td>\n",
       "      <td>direct online</td>\n",
       "      <td>1.000000</td>\n",
       "      <td>Checked Out</td>\n",
       "      <td>10010</td>\n",
       "      <td>10010</td>\n",
       "      <td>Atliq Grands</td>\n",
       "      <td>Luxury</td>\n",
       "      <td>Delhi</td>\n",
       "      <td>2022-05-01</td>\n",
       "      <td>May 22</td>\n",
       "      <td>W 17</td>\n",
       "      <td>weekend</td>\n",
       "    </tr>\n",
       "    <tr>\n",
       "      <th>1</th>\n",
       "      <td>May012216558RT12</td>\n",
       "      <td>16558</td>\n",
       "      <td>2022-04-30</td>\n",
       "      <td>2022-05-01</td>\n",
       "      <td>2022-05-02</td>\n",
       "      <td>2</td>\n",
       "      <td>RT1</td>\n",
       "      <td>others</td>\n",
       "      <td>3.619004</td>\n",
       "      <td>Cancelled</td>\n",
       "      <td>9100</td>\n",
       "      <td>3640</td>\n",
       "      <td>Atliq Grands</td>\n",
       "      <td>Luxury</td>\n",
       "      <td>Delhi</td>\n",
       "      <td>2022-05-01</td>\n",
       "      <td>May 22</td>\n",
       "      <td>W 17</td>\n",
       "      <td>weekend</td>\n",
       "    </tr>\n",
       "    <tr>\n",
       "      <th>2</th>\n",
       "      <td>May012216558RT13</td>\n",
       "      <td>16558</td>\n",
       "      <td>2022-04-28</td>\n",
       "      <td>2022-05-01</td>\n",
       "      <td>2022-05-04</td>\n",
       "      <td>2</td>\n",
       "      <td>RT1</td>\n",
       "      <td>logtrip</td>\n",
       "      <td>5.000000</td>\n",
       "      <td>Checked Out</td>\n",
       "      <td>9100</td>\n",
       "      <td>9100</td>\n",
       "      <td>Atliq Grands</td>\n",
       "      <td>Luxury</td>\n",
       "      <td>Delhi</td>\n",
       "      <td>2022-05-01</td>\n",
       "      <td>May 22</td>\n",
       "      <td>W 17</td>\n",
       "      <td>weekend</td>\n",
       "    </tr>\n",
       "    <tr>\n",
       "      <th>3</th>\n",
       "      <td>May012216558RT14</td>\n",
       "      <td>16558</td>\n",
       "      <td>2022-04-28</td>\n",
       "      <td>2022-05-01</td>\n",
       "      <td>2022-05-02</td>\n",
       "      <td>2</td>\n",
       "      <td>RT1</td>\n",
       "      <td>others</td>\n",
       "      <td>3.619004</td>\n",
       "      <td>Cancelled</td>\n",
       "      <td>9100</td>\n",
       "      <td>3640</td>\n",
       "      <td>Atliq Grands</td>\n",
       "      <td>Luxury</td>\n",
       "      <td>Delhi</td>\n",
       "      <td>2022-05-01</td>\n",
       "      <td>May 22</td>\n",
       "      <td>W 17</td>\n",
       "      <td>weekend</td>\n",
       "    </tr>\n",
       "    <tr>\n",
       "      <th>4</th>\n",
       "      <td>May012216558RT15</td>\n",
       "      <td>16558</td>\n",
       "      <td>2022-04-27</td>\n",
       "      <td>2022-05-01</td>\n",
       "      <td>2022-05-02</td>\n",
       "      <td>4</td>\n",
       "      <td>RT1</td>\n",
       "      <td>direct online</td>\n",
       "      <td>5.000000</td>\n",
       "      <td>Checked Out</td>\n",
       "      <td>10920</td>\n",
       "      <td>10920</td>\n",
       "      <td>Atliq Grands</td>\n",
       "      <td>Luxury</td>\n",
       "      <td>Delhi</td>\n",
       "      <td>2022-05-01</td>\n",
       "      <td>May 22</td>\n",
       "      <td>W 17</td>\n",
       "      <td>weekend</td>\n",
       "    </tr>\n",
       "  </tbody>\n",
       "</table>\n",
       "</div>"
      ],
      "text/plain": [
       "         booking_id  property_id booking_date check_in_date checkout_date  \\\n",
       "0  May012216558RT11        16558   2022-04-27    2022-05-01    2022-05-02   \n",
       "1  May012216558RT12        16558   2022-04-30    2022-05-01    2022-05-02   \n",
       "2  May012216558RT13        16558   2022-04-28    2022-05-01    2022-05-04   \n",
       "3  May012216558RT14        16558   2022-04-28    2022-05-01    2022-05-02   \n",
       "4  May012216558RT15        16558   2022-04-27    2022-05-01    2022-05-02   \n",
       "\n",
       "   no_guests room_category booking_platform  ratings_given booking_status  \\\n",
       "0          3           RT1    direct online       1.000000    Checked Out   \n",
       "1          2           RT1           others       3.619004      Cancelled   \n",
       "2          2           RT1          logtrip       5.000000    Checked Out   \n",
       "3          2           RT1           others       3.619004      Cancelled   \n",
       "4          4           RT1    direct online       5.000000    Checked Out   \n",
       "\n",
       "   revenue_generated  revenue_realized property_name category   city  \\\n",
       "0              10010             10010  Atliq Grands   Luxury  Delhi   \n",
       "1               9100              3640  Atliq Grands   Luxury  Delhi   \n",
       "2               9100              9100  Atliq Grands   Luxury  Delhi   \n",
       "3               9100              3640  Atliq Grands   Luxury  Delhi   \n",
       "4              10920             10920  Atliq Grands   Luxury  Delhi   \n",
       "\n",
       "        date  mmm yy week no day_type  \n",
       "0 2022-05-01  May 22    W 17  weekend  \n",
       "1 2022-05-01  May 22    W 17  weekend  \n",
       "2 2022-05-01  May 22    W 17  weekend  \n",
       "3 2022-05-01  May 22    W 17  weekend  \n",
       "4 2022-05-01  May 22    W 17  weekend  "
      ]
     },
     "execution_count": 26,
     "metadata": {},
     "output_type": "execute_result"
    }
   ],
   "source": [
    "# Display merged head\n",
    "df_bookings_all.head()"
   ]
  },
  {
   "cell_type": "markdown",
   "id": "38a26aa9-8be9-4016-a734-1033e49a1f32",
   "metadata": {},
   "source": [
    "We created new features to help with analysis:\n",
    "- Stay duration (nights)  \n",
    "- Revenue per guest"
   ]
  },
  {
   "cell_type": "code",
   "execution_count": 27,
   "id": "b4167813-35a6-416b-8e3d-df0f62e8f260",
   "metadata": {},
   "outputs": [],
   "source": [
    "# Stay duration (assuming checkout_date is datetime—convert if needed)\n",
    "df_bookings_all['checkout_date'] = pd.to_datetime(df_bookings_all['checkout_date'], errors='coerce')"
   ]
  },
  {
   "cell_type": "code",
   "execution_count": 28,
   "id": "506c2073-edfa-4c9c-befb-1de2bc2b3994",
   "metadata": {},
   "outputs": [],
   "source": [
    "df_bookings_all['stay_duration'] = (df_bookings_all['checkout_date'] - df_bookings_all['check_in_date']).dt.days"
   ]
  },
  {
   "cell_type": "code",
   "execution_count": 29,
   "id": "f3cb5e4f-e988-4ae9-af83-d15dd4982282",
   "metadata": {},
   "outputs": [],
   "source": [
    "# Revenue per guest\n",
    "df_bookings_all['revenue_per_guest'] = df_bookings_all['revenue_realized'] / df_bookings_all['no_guests']"
   ]
  },
  {
   "cell_type": "code",
   "execution_count": 30,
   "id": "fd892088-abb0-4861-9cf1-29e36774a668",
   "metadata": {},
   "outputs": [
    {
     "data": {
      "text/plain": [
       "mmm yy\n",
       "Jul 22    554538134\n",
       "Jun 22    535358791\n",
       "May 22    563201226\n",
       "Name: revenue_realized, dtype: int64"
      ]
     },
     "execution_count": 30,
     "metadata": {},
     "output_type": "execute_result"
    }
   ],
   "source": [
    "df_bookings_all.groupby('mmm yy')['revenue_realized'].sum()"
   ]
  },
  {
   "cell_type": "markdown",
   "id": "229508f7-f861-481c-9f0c-738bd92b906c",
   "metadata": {},
   "source": [
    "## Insights Generation\n",
    "We derive key insights through metrics and visualizations."
   ]
  },
  {
   "cell_type": "code",
   "execution_count": 31,
   "id": "ff93aa3a-8fad-4a85-bb60-e57730974b29",
   "metadata": {},
   "outputs": [
    {
     "name": "stdout",
     "output_type": "stream",
     "text": [
      "Total Realized Revenue: 1653098151\n"
     ]
    }
   ],
   "source": [
    "### Key Metrics\n",
    "total_revenue = df_bookings_all['revenue_realized'].sum()\n",
    "avg_rating = df_bookings_all['ratings_given'].mean()\n",
    "print(\"Total Realized Revenue:\", total_revenue)"
   ]
  },
  {
   "cell_type": "code",
   "execution_count": 32,
   "id": "3e82a78f-ef5d-42ad-9e14-b3f929326730",
   "metadata": {},
   "outputs": [
    {
     "name": "stdout",
     "output_type": "stream",
     "text": [
      "Average Rating: 3.618149589834043\n"
     ]
    }
   ],
   "source": [
    "print(\"Average Rating:\", avg_rating)"
   ]
  },
  {
   "cell_type": "code",
   "execution_count": 33,
   "id": "e038ffa5-d030-4115-8141-db30a8b97f9b",
   "metadata": {},
   "outputs": [
    {
     "name": "stdout",
     "output_type": "stream",
     "text": [
      "Total Bookings: 132,861\n",
      "Cancelled Bookings: 32,991\n",
      "Cancellation Rate: 24.83%\n"
     ]
    }
   ],
   "source": [
    "# Calculate cancellation rate\n",
    "total_bookings = len(df_bookings)\n",
    "cancelled_bookings = len(df_bookings[df_bookings['booking_status'] == 'Cancelled'])\n",
    "cancellation_rate = (cancelled_bookings / total_bookings) * 100\n",
    "print(f\"Total Bookings: {total_bookings:,}\")\n",
    "print(f\"Cancelled Bookings: {cancelled_bookings:,}\")\n",
    "print(f\"Cancellation Rate: {cancellation_rate:.2f}%\")\n",
    "# Insight: A ~{cancellation_rate:.2f}% cancellation rate indicates significant revenue loss, critical for the Revenue Manager to address."
   ]
  },
  {
   "cell_type": "markdown",
   "id": "273c9366-11c5-4d39-887b-d30d760ff2f2",
   "metadata": {},
   "source": [
    "## Revenue by Booking Platform (Pie Chart)"
   ]
  },
  {
   "cell_type": "code",
   "execution_count": 34,
   "id": "273c651a-5979-4c82-9aa3-423d117ff9e4",
   "metadata": {},
   "outputs": [
    {
     "data": {
      "image/png": "[encoded data removed]",
      "text/plain": [
       "<Figure size 800x600 with 1 Axes>"
      ]
     },
     "metadata": {},
     "output_type": "display_data"
    }
   ],
   "source": [
    "# Group and sort\n",
    "platform_revenue = df_bookings_all.groupby('booking_platform')['revenue_realized'].sum().sort_values()\n",
    "plt.figure(figsize=(8, 6))\n",
    "plt.pie(platform_revenue, labels=platform_revenue.index, autopct='%1.1f%%')\n",
    "plt.title('Revenue Realized by Booking Platform')\n",
    "plt.show()"
   ]
  },
  {
   "cell_type": "markdown",
   "id": "634e9050-a740-40bc-be6a-45d9e31eef1c",
   "metadata": {},
   "source": [
    "## Revenue by City and Month (Bar Chart)"
   ]
  },
  {
   "cell_type": "code",
   "execution_count": 35,
   "id": "d3c7e0e4-62d2-4650-991b-b06c75ad798a",
   "metadata": {},
   "outputs": [
    {
     "data": {
      "image/png": "[encoded data removed]",
      "text/plain": [
       "<Figure size 1000x600 with 1 Axes>"
      ]
     },
     "metadata": {},
     "output_type": "display_data"
    }
   ],
   "source": [
    "# Assuming df_bookings_all from Data Transformation\n",
    "city_month_revenue = df_bookings_all.groupby(['city', 'mmm yy'])['revenue_realized'].sum().unstack()\n",
    "city_month_revenue.plot(kind='bar', figsize=(10, 6), colormap='viridis')\n",
    "plt.title('Revenue by City and Month')\n",
    "plt.ylabel('Revenue')\n",
    "plt.xlabel('City')\n",
    "plt.legend(title='Month')\n",
    "plt.show()"
   ]
  },
  {
   "cell_type": "markdown",
   "id": "10d49633-f406-4c23-b617-5f5e19a8a05c",
   "metadata": {},
   "source": [
    "## Weekend vs. Weekday trends."
   ]
  },
  {
   "cell_type": "code",
   "execution_count": 36,
   "id": "13d75a79-48d8-46ff-9300-ce85b63ae0cf",
   "metadata": {},
   "outputs": [
    {
     "data": {
      "image/png": "[encoded data removed]",
      "text/plain": [
       "<Figure size 640x480 with 1 Axes>"
      ]
     },
     "metadata": {},
     "output_type": "display_data"
    }
   ],
   "source": [
    "df_bookings_all.groupby('day_type')['revenue_realized'].mean().plot(kind='bar', color=['#1f77b4', '#ff7f0e'])\n",
    "plt.title('Average Revenue by Day Type')\n",
    "plt.ylabel('Average Revenue')\n",
    "plt.show()"
   ]
  },
  {
   "cell_type": "markdown",
   "id": "f67d10cf-6467-4bd3-ba75-65b9cf06833c",
   "metadata": {},
   "source": [
    "### Correlation Analysis\n",
    "Correlation measures how `revenue_realized` and `ratings_given` are related. A value near 0 means little connection, which helps the Revenue Manager decide if improving guest satisfaction directly impacts revenue."
   ]
  },
  {
   "cell_type": "code",
   "execution_count": 37,
   "id": "64d616c7-54a8-43d7-92a8-e1d98a144bec",
   "metadata": {},
   "outputs": [
    {
     "name": "stdout",
     "output_type": "stream",
     "text": [
      "Correlation between Revenue and Ratings:\n",
      "                  revenue_realized  ratings_given\n",
      "revenue_realized           1.00000       -0.00121\n",
      "ratings_given             -0.00121        1.00000\n"
     ]
    }
   ],
   "source": [
    "# Calculate and display correlation\n",
    "correlation_matrix = df_bookings[['revenue_realized', 'ratings_given']].corr()\n",
    "print(\"Correlation between Revenue and Ratings:\")\n",
    "print(correlation_matrix)"
   ]
  },
  {
   "cell_type": "markdown",
   "id": "8f286842-1bdb-4ec6-b400-daca23f36569",
   "metadata": {},
   "source": [
    "## Conclusion and Recommendations\n",
    "### Summary\n",
    "- Total revenue: 1659219951.\n",
    "- Key trend: Decline possibly due to cancellations (24.83%% rate).\n",
    "- For Revenue Manager: Focus on high-revenue platforms.\n",
    "- For Operations Manager: Improve occupancy in low-performing cities.\n",
    "\n",
    "### Recommendations\n",
    "- Reduce cancellations with better policies.\n",
    "- Marketing for underperforming months.\n",
    "\n",
    "### Limitations\n",
    "- Data limited to 3 months; more needed for seasonality.\n",
    "\n",
    "### Future Work\n",
    "- Machine learning for revenue forecasting."
   ]
  }
 ],
 "metadata": {
  "kernelspec": {
   "display_name": "Python 3 (ipykernel)",
   "language": "python",
   "name": "python3"
  },
  "language_info": {
   "codemirror_mode": {
    "name": "ipython",
    "version": 3
   },
   "file_extension": ".py",
   "mimetype": "text/x-python",
   "name": "python",
   "nbconvert_exporter": "python",
   "pygments_lexer": "ipython3",
   "version": "3.13.5"
  }
 },
 "nbformat": 4,
 "nbformat_minor": 5
}
